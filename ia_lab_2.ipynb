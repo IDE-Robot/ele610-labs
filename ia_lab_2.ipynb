{
 "cells": [
  {
   "cell_type": "markdown",
   "metadata": {},
   "source": [
    "# ELE610 Applied Robot Technology, V-2025"
   ]
  },
  {
   "cell_type": "markdown",
   "metadata": {},
   "source": [
    "## Image Acquisition assignment 2"
   ]
  },
  {
   "cell_type": "markdown",
   "metadata": {},
   "source": [
    "For this assignment each group should write a brief report (pdf-file). Answer the questions and include figures and images as appropriate. You may answer in Norwegian or English, or a mix. The report may include new code you have created for your program appImageViewer2X.py. But you should also be prepared to run your program in the laboratory and show this to the teacher.\n",
    "\n",
    "The intention here is that you should do as much as you are able to within the time limit for each assignment, which is 15-20 hours. A report containing a table showing time used, for each student of the group, will normally be accepted even if all tasks are not done. If all tasks are done, the time report does not need to be included."
   ]
  },
  {
   "cell_type": "markdown",
   "metadata": {},
   "source": [
    "## 2 Image acquisition using uEye XS camera"
   ]
  },
  {
   "cell_type": "markdown",
   "metadata": {},
   "source": [
    "The Imaging Development Systems GmbH (IDS) uEye XS camera should be used in this assignment to capture an image, and to do some simple image processing on the image in Python.\n",
    "\n",
    "Generally, the <a href=\"https://en.ids-imaging.com/home.html\"> IDS web pages</a> are good, but access is restricted, only registered users may access many of the technical pages. The registration is free, and not too complicated. Also the camera model is needed as a key to access product spesific information, we have UI-1007XS-C and UI-3140CP-C. The most useful, for us, parts of the IDS documentation are listed below."
   ]
  },
  {
   "cell_type": "markdown",
   "metadata": {},
   "source": [
    "* The <a href=\"https://en.ids-imaging.com/store/products/cameras/xs.html\"> uEye XS web page </a> gives an overview of this camera. Among other things it says: This camera is supported by the IDS Software Suite SDK.\n",
    "* IDS Peak is IDS new software for camera interface. The <a href=\"https://en.ids-imaging.com/support-faq.html?label=247\">FAQ page </a> says: For uEye cameras please note that in addition to IDS peak, the latest version of the IDS Software Suite (4.95 or higher) must be installed. For more information and to operate uEye cameras in IDS peak applications, please refer to the <a href=\"https://en.ids-imaging.com/manuals/ids-peak/ids-peak-user-manual/2.0.0/en/ueye-intro.html\"> IDS peak manual</a>.\n",
    "* The <a href=\"https://en.ids-imaging.com/ids-software-suite.html\"> IDS Software Suite web page </a> tells that this software basically is obsolete. This page says, among other things, that IDS recommend a switch to IDS peak, but apparently this is not the complete thruth as we can read on the page link above. There is also a link to a download page for those who wants (needs) the old software. When IDS software (Software Suite) is installed, documentation (as html-files) is also stored on the computer, for my laptop they are located in C:/ProgramFiles/IDS/uEye/Help/uEye_Manual/index.html, or one my office PC .../Downloads/uEye_Manual/index.html.\n",
    "* IDS Camera Manager, select the camera to use, if several are available, and display camera properties.\n",
    "* uEye Cockpit, adjust camera parameters and capture image or video.\n",
    "* Part C Programming describes the function that also can be used from Python through the pyueye interface.\n",
    "* Part D Speciffications gives a detailed speciffication of the camera."
   ]
  },
  {
   "cell_type": "markdown",
   "metadata": {},
   "source": [
    "### 2.1 Use IDS programs"
   ]
  },
  {
   "cell_type": "markdown",
   "metadata": {},
   "source": [
    "IDS has updated their software and replaced the IDS Software Suite by IDS Peak. This is perhaps not completely done for old camera models as the ones\n",
    "we have, so I think old software is still needed but am not sure. Anyway, I have yet not installed IDS Peak as the old software works well on my laptop\n",
    "PC. However, I am very interested in your experience with IDS Peak and what is needed to successfully solve the tasks in these assignments using the IDS\n",
    "Peak tools.\n",
    "\n",
    "You may install IDS Peak from IDS web-page, but you probably have to look around and search until you find the download page. This done, follow the installation \n",
    "instructions and check that the software works from Windows menu, that an image can be captured using an IDS camera. If this works the Python package should also work.\n",
    "\n",
    "Perhaps you should also (or rather) install the IDS Software Suite as described below. You should install a working camera driver from IDS, the IDS Software\n",
    "Suite version 4.94 from July 2020 is ok. A newer version (checked June 2022) is IDS Software Suite version 4.95.2 (date 2022-03-23), will also do fine I guess,\n",
    "but version 4.96 doesn't work as well as it should according to some students that tried it. I suppose drivers are available on <a href=\"https://en.ids-imaging.com/downloads.html\"> IDS downloads </a>, the <a href=\"https://en.ids-imaging.com/release-note/release-notes-ids-software-suite-4-95.html\"> release notes </a> gives additional information. There are drivers available for Windows, 32 bit and 64 bit, and Linux. The same driver can be used for all IDS cameras.\n",
    "Only registered IDS users can download the drivers, the registration is free, and not too complicated.1\n",
    "\n",
    "Install drivers and programs from IDS on your laptop, or use one of the laboratory PCs where this software is installed. Attach camera to USB-gate on\n",
    "the PC and start \"IDS Camera Manager\". The attached camera should be visible in \"Camera list\" on the top of the program window. The buttons in\n",
    "the middle of the window will display general information and specific camera information. You may double-click on the line showing the camera to start the\n",
    "uEye Cockpit program. Especially note the help button which will start the useful \"User Guide\". Try this and learn to know which sections are available,\n",
    "and use this guide whenever needed.\n",
    "\n",
    "Back in uEye Cockpit program you can now try the different alternatives, behind each of the larger buttons. Try some of these, in particular investigate\n",
    "the different options that may be adjusted for this camera. Eventually, use the \"Optimal Colors\" button and capture and display image and video. The\n",
    "scene should include some of the colored dices that should be somewhere in the laboratory, perhaps on the camera rig table where they are supposed to\n",
    "be when not used. Save one image and include it in the report, on example is in Figure 1.\n",
    "\n",
    "<img src=\"img/ia2_2_1.jpg\" /> \n",
    "\n",
    "Figure 1: Image of dices captured using the uEye XS camera on UiS camera rig. The image is down sampled to size 640x360."
   ]
  },
  {
   "cell_type": "markdown",
   "metadata": {},
   "source": [
    "### 2.2 Use IDS camera and Python"
   ]
  },
  {
   "cell_type": "markdown",
   "metadata": {},
   "source": [
    "This section continues the Python section in assignment 1. In particular you need to install Python and all the needed packages. To do this, carefully\n",
    "read the instructions in the Fragments of Python stuff% document. Here, the most important sections now are section 2.3 and section 4.2.\n",
    "After installation you may continue directly with the list of tasks below. But, it will be helpful to start with the simple example in appSimpleImageViewer.\n",
    "py% to get the basic ideas of GUI programming using Qt. Read from part 5 of the Fragments of Python stuff document, view the tutorial videos available\n",
    "from canvas, and perhaps also view some basice Qt tutorial videos or documents from www. Note that appSimpleImageViewer.py don't use OpenCV, numpy or pyueye.\n",
    "When you understand how appSimpleImageViewer.py works you can move on to appImageViewer.py%, and continue with appImageViewer1.py% and\n",
    "finally appImageViewer2.py%. The one numbered 2 builds on the one numbered 1 by adding a Camera-menu to it. It will be helpful to view the videos available from canvas."
   ]
  },
  {
   "cell_type": "markdown",
   "metadata": {},
   "source": [
    "#### Assignments"
   ]
  },
  {
   "cell_type": "code",
   "execution_count": 15,
   "metadata": {},
   "outputs": [],
   "source": [
    "# Run this code block to import all necessary libraries\n",
    "from libs.bf_tools import cam_info\n",
    "import numpy as np\n",
    "import numpy.typing as npt\n",
    "import matplotlib.pyplot as plt\n",
    "import cv2"
   ]
  },
  {
   "cell_type": "markdown",
   "metadata": {},
   "source": [
    "a. It may be helpful to see the example pyueye_example_*.py to better understand image acquisition. But this example is not easy to understand and may be completely confusing. Anyway, install pyueye (if not already done) and check that it works as intended.\n",
    "\n",
    "You may use the cam info() function in \"bf_tools.py\". Read the code in cam_info() carefully and try to understand it. In particular, look up the documentation for the used functions from the pyueye package; C++ versions of these functions are documented in IDS help system.\n",
    "\n",
    "You may also use a Python class that wraps around the IDS driver and thus makes it easier to use. This file is: clsCamera.py. This file was written by Elias Nodland and Vilhem Assersen as part of their UiS Bachelor thesis May 2022."
   ]
  },
  {
   "cell_type": "code",
   "execution_count": null,
   "metadata": {},
   "outputs": [],
   "source": [
    "# Function from bf_tools.py to print camera information\n",
    "cam_info()"
   ]
  },
  {
   "cell_type": "markdown",
   "metadata": {},
   "source": [
    "b. It has been discovered that focus is found after 15 to 25 images are captured, so the simple implementation is just to capture some images and return assuming autofocus has worked. \n",
    "\n",
    "The \"Simple find focus\"-function could also be called from (near the end of) the cameraOn-function of the appImageViewer application (you can later on copy out the function)."
   ]
  },
  {
   "cell_type": "code",
   "execution_count": null,
   "metadata": {},
   "outputs": [],
   "source": [
    "img_num = 0 # global variable used for testing purposes\n",
    "\n",
    "def getOneImage():\n",
    "    # dummy method to simulate capturing an image\n",
    "    global img_num\n",
    "    img_num += 1\n",
    "\n",
    "# Only edit this function:\n",
    "def simple_find_focus():\n",
    "    '''Let the camera adjust focus by capturing 15 - 25 images, this can be copied\n",
    "        and used in appImageViewer with small modifications'''\n",
    "    # insert your code here to capture images and adjust focus\n",
    "    getOneImage() # replace/edit when moved to appImageViewer\n",
    "    pass\n",
    "\n",
    "# Code to run and test the simple_fin_focus function, do not edit this:\n",
    "simple_find_focus()\n",
    "if 15 <= img_num and img_num <= 25:\n",
    "    print(\"Focus should work now, captured {} images\".format(img_num))\n",
    "else:\n",
    "    print(\"Autofocus has not been handled, only captured {} images\".format(img_num))"
   ]
  },
  {
   "cell_type": "markdown",
   "metadata": {},
   "source": [
    "c. Find the difference between two images by subtracting the first from the second image. "
   ]
  },
  {
   "cell_type": "code",
   "execution_count": 18,
   "metadata": {},
   "outputs": [],
   "source": [
    "def img_diff(img_a: npt.NDArray[np.uint8], img_b: npt.NDArray[np.uint8]) -> npt.NDArray[np.uint8]:\n",
    "    '''\n",
    "    Return a numpy array with absolute value of the difference between two images.\n",
    "\n",
    "            Parameters:\n",
    "                    img_a np array (uint8): A numpy array representing an image\n",
    "                    img_b np array (uint8): A numpy array representing an image\n",
    "\n",
    "            Returns:\n",
    "                    numpy array (uint8): A numpy array with the absolute value difference of each pixel in the two images\n",
    "    '''\n",
    "    # Add your code here to make the function work as described. To avoid errors it initially just returns an empty array.\n",
    "    # Remember: An unsigned is an integer (uint) that can never be negative. If you take an unsigned 0 and subtract 1 from it,\n",
    "    #               the result wraps around, leaving a large number (2^8-1 with the typical 8-bit integer size).\n",
    "    # Use the astype() method to convert the array to another data type.\n",
    "    # converted_array = original_array.astype(datatype)\n",
    "    # https://numpy.org/doc/2.1/reference/arrays.dtypes.html\n",
    "\n",
    "    return np.empty_like(img_a)"
   ]
  },
  {
   "cell_type": "markdown",
   "metadata": {},
   "source": [
    "The folder \"focus\" contains a set of pictures of a dice taken sequentially while the camera is adjusting focus. You can start testing using these pictures, but feel free to add/use your own set of pictures to test the autofocus function.\n",
    "\n",
    "Remember to \"Run\" the function code block above after making changes, before you run the code below again"
   ]
  },
  {
   "cell_type": "code",
   "execution_count": null,
   "metadata": {},
   "outputs": [],
   "source": [
    "\n",
    "img = cv2.imread('img/focus/dice_0.jpg') # reads the first image\n",
    "img1 = np.array(cv2.cvtColor(img, cv2.COLOR_BGR2RGB)) # convert to from BGR to RGB\n",
    "img = cv2.imread('img/focus/dice_1.jpg')\n",
    "img2 = np.array(cv2.cvtColor(img, cv2.COLOR_BGR2RGB))\n",
    "img = cv2.imread('img/focus/dice_18.jpg')\n",
    "img3 = np.array(cv2.cvtColor(img, cv2.COLOR_BGR2RGB))\n",
    "img = cv2.imread('img/focus/dice_19.jpg') # reads the last image in the focus sequence\n",
    "img4 = np.array(cv2.cvtColor(img, cv2.COLOR_BGR2RGB))\n",
    "\n",
    "print (\"img1 datatype:\", img1.dtype)\n",
    "\n",
    "diff_1 = img_diff(img1, img2)\n",
    "diff_2 = img_diff(img3, img4)\n",
    "\n",
    "# Decide on a numerical way to show how different the images are\n",
    "num_diff_1 = 0\n",
    "num_diff_2 = 0\n",
    "\n",
    "print(\"Difference between image 1 and 2:\", num_diff_1)\n",
    "print(\"Difference between image 3 and 4:\", num_diff_2)\n",
    "\n",
    "# Plot the images in a 2x3 grid with img A, img B and the difference between them\n",
    "# You can also modify the diff images to enhance the differences by utilizing the full range of the 8 bits 0-255\n",
    "print(\"Current max pixel-value in diff_1:\", np.max(diff_1))\n",
    "\n",
    "fig, axs = plt.subplots(2, 3, figsize=(10, 5))\n",
    "for j in range(2):\n",
    "    for i in range(3):\n",
    "        axs[j][i].axis('off')\n",
    "    axs[j][0].set_title('Image 1')\n",
    "    axs[j][1].set_title('Image 2')\n",
    "    axs[j][2].set_title('Difference between image 1 and 2')\n",
    "\n",
    "axs[0][0].imshow(img1, cmap='viridis')\n",
    "axs[0][1].imshow(img2, cmap='viridis')\n",
    "axs[0][2].imshow(diff_1, cmap='viridis')\n",
    "axs[1][0].imshow(img3, cmap='viridis')\n",
    "axs[1][1].imshow(img4, cmap='viridis')\n",
    "axs[1][2].imshow(diff_2, cmap='viridis')\n",
    "\n",
    "plt.show()"
   ]
  },
  {
   "cell_type": "markdown",
   "metadata": {},
   "source": [
    "b (advanced). A more advanced method is to look at the difference between two following images captured, and when this is small it indicate that the focus is found. You could try to make a function that works well for different scenes, but most important is the scene where dices are 200 to 400 mm from camera. \n",
    "\n",
    "WARNING: It is easy to spend lots of hours on this point, but try not to do this. Two hours should be enough, at least to make the simple solution work."
   ]
  },
  {
   "cell_type": "code",
   "execution_count": 20,
   "metadata": {},
   "outputs": [],
   "source": [
    "# more advanced method, difference between two following images\n",
    "def advanced_find_focus(img_old, img_new):\n",
    "    '''Check difference between two following images to see if focus has been found\n",
    "    Parameters:\n",
    "        img_old: numpy array, previous image\n",
    "        img_new: numpy array, new image\n",
    "\n",
    "    Returns:\n",
    "        bool: True if focus has been found (little difference), False otherwise\n",
    "    '''\n",
    "    # insert your code here to check difference between two images and return True if focused\n",
    "    pass\n",
    "\n",
    "# Test the advanced_find_focus function, you can use the sequence of images in the focus folder,\n",
    "#   and/or capture and use your own sequence of images"
   ]
  },
  {
   "cell_type": "markdown",
   "metadata": {},
   "source": [
    "d. In the code block below there is a slightly simplified version of the \"toBinary\"-function in appImageViewer1.py. Morphological functions can remove noise and only keep the eyes as the black dots. Do not make the task more difficult than necessary, use only one dice and have a smooth background without black areas. Find a suitable threshold value. You can start with the sample image, and then capture your own image and try with that as well.\n",
    "\n",
    "* <a href=\"https://docs.opencv.org/4.x/d7/d4d/tutorial_py_thresholding.html\"> OpenCV thresholding tutorial </a>\n",
    "* <a href=\"https://docs.opencv.org/4.x/d7/d1b/group__imgproc__misc.html#gae8a4a146d1ca78c626a53577199e9c57\"> OpenCV threshold documentation </a>"
   ]
  },
  {
   "cell_type": "code",
   "execution_count": 21,
   "metadata": {},
   "outputs": [],
   "source": [
    "def toBinary(img, thresh: int) -> npt.NDArray[np.uint8]:\n",
    "\t'''\n",
    "    Return a binary image based on the input image and threshold value.\n",
    "\n",
    "            Parameters:\n",
    "                    img: A cv2 image\n",
    "                    thresh (uint8): Threshold value\n",
    "\n",
    "            Returns:\n",
    "                    CV2 image: A binary image\n",
    "\t'''\n",
    "\tif (thresh < 2):\n",
    "\t\t(used_thr,out) = cv2.threshold(img, thresh=1, maxval=255, type=cv2.THRESH_OTSU)\n",
    "\telse:\n",
    "\t\t(used_thr,out) = cv2.threshold(img, thresh=thresh, maxval=255, type=cv2.THRESH_BINARY)\n",
    "\tprint( f\"toBinary: The used threshold value is {used_thr}\" )\n",
    "\treturn out"
   ]
  },
  {
   "cell_type": "code",
   "execution_count": null,
   "metadata": {},
   "outputs": [],
   "source": [
    "img = cv2.imread('img/dice_img.jpg') # read image dice_18.jpg, replace the filename with your own image\n",
    "img = cv2.cvtColor(img, cv2.COLOR_BGR2GRAY) # convert to from BGR to grayscale\n",
    "\n",
    "# Find out how threshold value affects the binary image, and find a suitable value for the threshold (thresh)\n",
    "img_binary = toBinary(img, 0)\n",
    "\n",
    "fig, axs = plt.subplots(1, 2, figsize=(10, 5))\n",
    "\n",
    "axs[0].imshow(img, cmap='grey')\n",
    "axs[0].set_title('Original image')\n",
    "axs[0].axis('off')\n",
    "\n",
    "axs[1].imshow(img_binary, cmap='grey')\n",
    "axs[1].set_title('toBinary')\n",
    "axs[1].axis('off')\n",
    "\n",
    "plt.show()"
   ]
  },
  {
   "cell_type": "markdown",
   "metadata": {},
   "source": [
    "e. Find circles that uses cv2.HoughCircles() function and is an alternative to Black dots. \n",
    "\n",
    "* <a href=\"https://docs.opencv.org/4.x/da/d53/tutorial_py_houghcircles.html\"> OpenCV Hough Circle Transform tutorial </a>\n",
    "* <a href=\"https://docs.opencv.org/4.x/dd/d1a/group__imgproc__feature.html#ga47849c3be0d0406ad3ca45db65a25d2d\"> OpenCV HoughCircles documentation </a>\n",
    "* <a href=\"https://docs.opencv.org/4.x/dd/d1a/group__imgproc__feature.html#ga073687a5b96ac7a3ab5802eb5510fe65\"> HoughModes </a>"
   ]
  },
  {
   "cell_type": "code",
   "execution_count": 23,
   "metadata": {},
   "outputs": [],
   "source": [
    "# Slightly simplified version of functions available in appImageViewer\n",
    "def HoughCircles(img, t):\n",
    "    \"\"\"Simply display results for the parameters given in tuple 't', without committing.\"\"\"\n",
    "    (dp, minDist, param1, param2, minRadius, maxRadius) = t\n",
    "    print(\"HoughCircles(): now called using:\")\n",
    "    print(f\"t = (dp={dp}, minDist={minDist}, param1={param1}, param2={param2}, minRadius={minRadius}, maxRadius={maxRadius})\")\n",
    "    C = cv2.HoughCircles(img, cv2.HOUGH_GRADIENT, dp=dp, minDist=minDist, param1=param1, param2=param2,\n",
    "                                                    minRadius=minRadius, maxRadius=maxRadius)\n",
    "    return C\n",
    "\n",
    "def drawCircles(img, C, maxCircles):\n",
    "    \"\"\"Draw circles on the image 'img' using the data in 'C'.\"\"\"\n",
    "    C = np.int16(np.around(C))\n",
    "    for i in range(min(maxCircles, C.shape[1])):\n",
    "        (x,y,r) = ( C[0,i,0], C[0,i,1], C[0,i,2] )  # center and radius\n",
    "        cv2.circle(img, (x,y), r, (255, 0, 255), 2) # and circle outline"
   ]
  },
  {
   "cell_type": "code",
   "execution_count": null,
   "metadata": {},
   "outputs": [],
   "source": [
    "img = cv2.imread('img/focus/dice_19.jpg') # read image dice_19.jpg, capture your own image and change the filename\n",
    "img_grey = cv2.cvtColor(img, cv2.COLOR_BGR2GRAY) # convert to from BGR to Grayscale, as HoughCircles requires a single channel image\n",
    "img_color = cv2.cvtColor(img, cv2.COLOR_BGR2RGB) # convert to from BGR to RGB\n",
    "# could be useful to smooth the image before applying HoughCircles as described in the documentation\n",
    "\n",
    "# parameters for HoughCircles, modify these to get better results\n",
    "# Description of the parameters can be found here in the documentation:\n",
    "t = (1.5,   # dp,\n",
    "     1,  # minDist,\n",
    "     1, # param1,\n",
    "     1,  # param2,\n",
    "     1,  # minRadius,\n",
    "     10)  # maxRadius\n",
    "circles = HoughCircles(img_grey, t) # test HoughCircles function\n",
    "\n",
    "if circles is not None:\n",
    "    drawCircles(img_color, circles, 510)\n",
    "\n",
    "fig, axs = plt.subplots(1, 2, figsize=(10, 5))\n",
    "\n",
    "axs[0].imshow(img_grey, cmap='grey')\n",
    "axs[0].set_title('Image in greyscale')\n",
    "axs[0].axis('off')\n",
    "\n",
    "axs[1].imshow(img_color, cmap='grey')\n",
    "axs[1].set_title('Color image with circles')\n",
    "axs[1].axis('off')\n",
    "\n",
    "plt.show()"
   ]
  },
  {
   "cell_type": "code",
   "execution_count": null,
   "metadata": {},
   "outputs": [],
   "source": [
    "# Print a list the circles found in the image\n",
    "maxCircles = 20 # maximum number of circles to print information for\n",
    "if circles is not None:\n",
    "    print(f\"  'C'  is ndarray of {circles.dtype.name}, shape: {str(circles.shape)}\")\n",
    "    print(f\"  Found {circles.shape[1]} circles with radius from {circles[0,:,2].min()} to {circles[0,:,2].max()}\")\n",
    "    for i in range(min(maxCircles, circles.shape[1])):\n",
    "        (x,y,r) = ( circles[0,i,0], circles[0,i,1], circles[0,i,2] )  # center and radius\n",
    "        print(f\"  circle {i} has center in ({x},{y}) and radius {r}\")"
   ]
  },
  {
   "cell_type": "markdown",
   "metadata": {},
   "source": [
    "f. Use the functions/code from task d and/or e, and try to find/count the number of dots on a dice from a captured image."
   ]
  },
  {
   "cell_type": "code",
   "execution_count": 26,
   "metadata": {},
   "outputs": [],
   "source": [
    "# Use the output of d or e to count the number of eyes (black dots or circles) on the dice\n",
    "def count_dots(input):\n",
    "    '''Count, and return the number of dots on a dice\n",
    "        Choose and describe the input parameter(s) and return value(s) yourself\n",
    "    '''\n",
    "    dots = 0\n",
    "    return dots\n",
    "\n",
    "# Test the count_dots function\n"
   ]
  },
  {
   "cell_type": "markdown",
   "metadata": {},
   "source": [
    "### Integrate functionality into appImageViewer"
   ]
  },
  {
   "cell_type": "markdown",
   "metadata": {},
   "source": [
    "Your solution may be done by understanding the code in appImageViewer2.py and then add the needed new features and perhaps even improve the features\n",
    "(partly) implemented. It is when you try to do some programming yourself or modify existing code that you really see how well you understand Qt and\n",
    "OpenCV. These examples are not complete, there is still some (much) work left to make your program appImageViewer2X.py better (perfect?). X should\n",
    "be replaced by your group letter."
   ]
  },
  {
   "cell_type": "markdown",
   "metadata": {},
   "source": [
    "b. Try to understand what is done by the \"Camera\" menu items of appImageViewer2.py. To test that you understand this part you may\n",
    "make a new \"Find focus\"-function (copy the simple and/or advanced function you created) and place it before the \"Get one image\"-function in the menu. \n",
    "The \"Find focus\"-function could also be called from (near the end of) the cameraOn-function."
   ]
  },
  {
   "cell_type": "markdown",
   "metadata": {},
   "source": [
    "c. Add at least one more point to the \"Camera\" menu. Perhaps print more camera information, perhaps capture two images just after each other and find the difference between the two images. More difficult tasks are to change the camera options (not all are possible to change) and to capture a video sequence. "
   ]
  },
  {
   "cell_type": "markdown",
   "metadata": {},
   "source": [
    "d. Add another menu Dice (in appImageViewer2X.py) and under it add an Action for Black dots (see code from task d). "
   ]
  },
  {
   "cell_type": "markdown",
   "metadata": {},
   "source": [
    "e. You may also add an action (to appImageViewer2X.py) named Find circles (use code from task e). This action/function is used in appImageViewer3.py and you may look there for hints. But it should be added to your program appImageViewer2X.py."
   ]
  },
  {
   "cell_type": "markdown",
   "metadata": {},
   "source": [
    "f. Add a feature, an action, Count eyes, in the Dice menu. This should find the number of eyes in the captured image after black dots (or circles) are found. This should also be in appImageViewer2X.py."
   ]
  },
  {
   "cell_type": "markdown",
   "metadata": {},
   "source": [
    "g. And finally, if you still have time left, make your solution appImageViewer2X.py even better. It may capture images continuously (video) or regularly (each second) and print out the new state each time\n",
    "the number of eyes have changed. Correct any errors, clean up any messy part, make comments sufficient, but not too verbose."
   ]
  },
  {
   "cell_type": "markdown",
   "metadata": {},
   "source": [
    "**Answer here**"
   ]
  }
 ],
 "metadata": {
  "kernelspec": {
   "display_name": ".venv",
   "language": "python",
   "name": "python3"
  },
  "language_info": {
   "codemirror_mode": {
    "name": "ipython",
    "version": 3
   },
   "file_extension": ".py",
   "mimetype": "text/x-python",
   "name": "python",
   "nbconvert_exporter": "python",
   "pygments_lexer": "ipython3",
   "version": "3.12.2"
  }
 },
 "nbformat": 4,
 "nbformat_minor": 2
}
