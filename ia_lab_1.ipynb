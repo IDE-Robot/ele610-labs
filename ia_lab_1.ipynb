{
 "cells": [
  {
   "cell_type": "markdown",
   "metadata": {},
   "source": [
    "# ELE610 Applied Robot Technology, V-2025"
   ]
  },
  {
   "cell_type": "markdown",
   "metadata": {},
   "source": [
    "Rev. Stavanger, Jan 10, 2025"
   ]
  },
  {
   "cell_type": "markdown",
   "metadata": {},
   "source": [
    "## Image Acquisition assignment 1"
   ]
  },
  {
   "cell_type": "markdown",
   "metadata": {},
   "source": [
    "The purpose of this assignment is to install Python and packages and prepare your Python programming environment and refresh Python skills. The IDS camera is not used in this assignment. You should capture an image and transfer it to the computer. Then you install and check the Python software, in particular the OpenCV package, and you do some basic image processing. You should refresh numpy and OpenCV as good as possible within the time limit.\n",
    "\n",
    "For this assignment each group should write a brief report (pdf-file). Answer the questions in the alphabet-numbered lists in each subsection and include figures and images as appropriate. You may answer in Norwegian or English, or a mix.\n",
    "\n",
    "Note that to give exhaustive answers to all questions and do all tasks below within reasonable time is impossible for most students. The intention here is that you should do as much as you are able to within the time limit for each student for each assignment, which is 15-20 hours. A report containing a table showing time used, for each student of the group, will normally be accepted even if all tasks are not done. If all tasks are done, the time report does not need to be included."
   ]
  },
  {
   "cell_type": "markdown",
   "metadata": {},
   "source": [
    "## 1. Image acquisition using smart phone"
   ]
  },
  {
   "cell_type": "markdown",
   "metadata": {},
   "source": [
    "The first task is to look up technical information on the smart phone camera, and to understand what the different properties means. Note that not all listed properties are available or relevant for the smart phone camera. Then you should capture an image using the camera on your smart phone and transfer it to your laptop. \n",
    "\n",
    "Finally some simple image processing should be done. The goal is to be able to use Python and OpenCV for some basic image processing tasks."
   ]
  },
  {
   "cell_type": "markdown",
   "metadata": {},
   "source": [
    "### 1.1 Camera properties"
   ]
  },
  {
   "cell_type": "markdown",
   "metadata": {},
   "source": [
    "Many years ago, when cameras were mechanical, there was some few common properties to adjust when an image was captured, mainly:"
   ]
  },
  {
   "cell_type": "markdown",
   "metadata": {},
   "source": [
    "1. [exposure time](https://en.wikipedia.org/wiki/Shutter_speed) as fractions of second (lukketid),\n",
    "2. the physical [shutter](https://en.wikipedia.org/wiki/Shutter_(photography)) mechanism (lukker),\n",
    "3. [aperture size](https://en.wikipedia.org/wiki/Aperture) as f-number (blender)."
   ]
  },
  {
   "cell_type": "markdown",
   "metadata": {},
   "source": [
    "When digital cameras were introduced more properties (both for camera and image capture) was added, but the old properties related to the lens and objective are still relevant.\n",
    "\n",
    "The task is simply to look up and read the technical information for the cameras relevant for you in this course. They are:"
   ]
  },
  {
   "cell_type": "markdown",
   "metadata": {},
   "source": [
    "<ol type=\"a\">\n",
    "<li>The small <a href=\"https://en.ids-imaging.com/store/products/cameras/xs.html\">IDS uEye XS</a> camera. </li>\n",
    "<li>One of the other IDS camera, either the camera model <a href=\"http://www.ux.uis.no/~karlsk/ELE610/UI-3140CP-C-HQ_Rev_2.pdf\">IDS UI-3140CP-C-HQ R2 </a> or the camera model <a href=\"http://www.ux.uis.no/~karlsk/ELE610/UI-3360CP-C-HQ_Rev_2.pdf\">IDS UI-336xCP-C</a>. They are mounted on each of our two camera rigs.</li>\n",
    "<li>You should also check the properties of the camera on your own cellphone. </li>\n",
    "</ol>"
   ]
  },
  {
   "cell_type": "markdown",
   "metadata": {},
   "source": [
    "The report should only contain what you consider to be the five most important, most relevant, properties with the corresponding values for each camera."
   ]
  },
  {
   "cell_type": "markdown",
   "metadata": {},
   "source": [
    "**Answer here**"
   ]
  },
  {
   "cell_type": "markdown",
   "metadata": {},
   "source": [
    "### 1.2 Capture a test image"
   ]
  },
  {
   "cell_type": "markdown",
   "metadata": {},
   "source": [
    "The task here is to capture an image using the camera on your smart phone. The scene should be a simple chessboard pattern as in figure 1. \n",
    "\n",
    "<img src=\"img/ia1_1_2.jpg\" width=\"25%\" />\n",
    "\n",
    "Figure 1: Image from an iPhone 4, has width 3264 pixels and height 2448 pixels. The size of each square in the chessboard is 30x30mm\n",
    "\n",
    "Transfer the image to your laptop, or another computer, and view it in an image viewer program, or Matlab, to explore the image. Answer the points below, a chessboard pattern is assumed.\n",
    "\n",
    "a. Store the image on your computer, as a jpg- or png-file, and include it in your report. The subfolder \"img\" is a good place to store images used in these assignments and labs, edit the answer cell below to display your image."
   ]
  },
  {
   "cell_type": "markdown",
   "metadata": {},
   "source": [
    "**Answer here**\n",
    "\n",
    "<img src=\"img/img.jpg\" width=\"25%\" alt=\"Edit this to display your image\" />"
   ]
  },
  {
   "cell_type": "markdown",
   "metadata": {},
   "source": [
    "b. What meta information is available for the image."
   ]
  },
  {
   "cell_type": "markdown",
   "metadata": {},
   "source": [
    "**Answer here**"
   ]
  },
  {
   "cell_type": "markdown",
   "metadata": {},
   "source": [
    "c. See the image in figure 1. I don't remember the actual distance from the camera to the chessboard pattern, but let us here assume it is d1 = 400\n",
    "mm. One square in figure 1 is measured to be p1 = 285 pixels wide, this was found by using appImageViewer1.py to display the image, here\n",
    "the location, x- and y-coordinates, for the pixel that the arrow (cursor) points on is shown.\n",
    "\n",
    "Assume I now capture a new image of this chessboard pattern, using the same camera setup but another distance from camera to the pattern,\n",
    "and measure the side length of a square in the image as p2 = 406 pixels. What is the distance d2 now from the camera to the chessboard pattern?\n",
    "The report should include the calculated distance and the formula used. The formula used should be an equation; d2 on the left side of equal sign\n",
    "and an expression using d1, p1 and p2 on the right side. \n",
    "\n",
    "(Markdown, used for styling the text here also supports TeX/LaTeX syntax for math, or you can insert a photo) Math example: $$ x = {-b \\pm \\sqrt{b^2-4ac} \\over 2a} $$"
   ]
  },
  {
   "cell_type": "markdown",
   "metadata": {},
   "source": [
    "**Answer here**"
   ]
  },
  {
   "cell_type": "markdown",
   "metadata": {},
   "source": [
    "### 1.3 Install and check Python"
   ]
  },
  {
   "cell_type": "markdown",
   "metadata": {},
   "source": [
    "The first thing to do here, if it is not already done, is to install Python, including all the needed packages on your laptop computer. Python should be installed on the office computers in E462 and E464. To do this, carefully read the instructions in the Fragments of Python stuff document. Make the decisions appropriate for you, do the necessary installations, and check that everything is as it should be. To confirm the installation answer the following\n",
    "questions:"
   ]
  },
  {
   "cell_type": "code",
   "execution_count": null,
   "metadata": {},
   "outputs": [],
   "source": [
    "from libs.check_requirements import CheckRequirements\n",
    "# Using the Python class \"check_requirements.py\" to check the system requirements\n",
    "\n",
    "check = CheckRequirements()\n",
    "check.check_system_version()\n",
    "check.check_os()\n",
    "check.check_lab_1_requirements()\n",
    "print(check.os_version)\n",
    "print(check.py_version)\n",
    "for message in check.messages:\n",
    "    print(message)"
   ]
  },
  {
   "cell_type": "markdown",
   "metadata": {},
   "source": [
    "1. What kind of computer and operating system do you use?\n",
    "2. Which editor, or IDE, do you use?"
   ]
  },
  {
   "cell_type": "markdown",
   "metadata": {},
   "source": [
    "**Answer here**"
   ]
  },
  {
   "cell_type": "markdown",
   "metadata": {},
   "source": [
    "## 1.4 Image Processing using Python and OpenCV"
   ]
  },
  {
   "cell_type": "markdown",
   "metadata": {},
   "source": [
    "This part is divided into several steps: First, it is important to understand how an image is represented in numpy and OpenCV. The purpose here is mainly to learn to use numpy, and some basic OpenCV stu\u000b. Then, some basic image processing is explained, mainly edge detection and line detection (Hough Transform). Finally, edges and corners should be located in the example image. You should be familiar to numpy and OpenCV documentation, you may search the web and also some links are included in fragments of Python stuff document."
   ]
  },
  {
   "cell_type": "markdown",
   "metadata": {},
   "source": [
    "### 1.4.1 Test image in OpenCV"
   ]
  },
  {
   "cell_type": "markdown",
   "metadata": {},
   "source": [
    "Use OpenCV to read the test image of a chessboard pattern captured and stored on your computer (img subfolder), task 1.2.a above. And, then run the Python code below."
   ]
  },
  {
   "cell_type": "code",
   "execution_count": null,
   "metadata": {},
   "outputs": [],
   "source": [
    "import cv2\n",
    "filename = \"img/test.jpg\" # Change to the path of your image file\n",
    "img = cv2.imread( filename ) # filename is a string with the name of the file\n",
    "print( f\"{img.dtype = },\\n {img.size = },\\n {img.ndim = },\\n {img.shape = }\\n\" )"
   ]
  },
  {
   "cell_type": "markdown",
   "metadata": {},
   "source": [
    "You should now crop this (probably) large image and keep a central part containing at least 3 black squares. That is, you should select only a part of the image. Then you store (write to disk) this resulting image, use the same format as the original file. Store this image as well in the img folder and adjust the file path in the code below."
   ]
  },
  {
   "cell_type": "code",
   "execution_count": null,
   "metadata": {},
   "outputs": [],
   "source": [
    "filename_cropped = ... # filename is a string with the name of cropped file\n",
    "img_cropped = cv2.imread( filename_cropped ) # filename is a string with the name of the file\n",
    "print( f\"{img_cropped.dtype = },\\n {img_cropped.size = },\\n {img_cropped.ndim = },\\n {img_cropped.shape = }\" )"
   ]
  },
  {
   "cell_type": "markdown",
   "metadata": {},
   "source": [
    "### 1.4.2 Image as a numpy array"
   ]
  },
  {
   "cell_type": "markdown",
   "metadata": {},
   "source": [
    "This subsection is to make you more familiar with OpenCV and numpy.\n",
    "\n",
    "OpenCV use numpy array for images. A gray scale image with 400 pixel in horizontal direction (w or width) and 300 pixels in vertical direction (h or height) where all pixels are zeros (black) can be done by the following Python code. You should try the code below and hopefully a black rectangle will be shown."
   ]
  },
  {
   "cell_type": "code",
   "execution_count": null,
   "metadata": {},
   "outputs": [],
   "source": [
    "import numpy as np\n",
    "import matplotlib.pyplot as plt\n",
    "import cv2\n",
    "from libs.bf_tools import mpl_plot, cv_plot\n",
    "\n",
    "A = np.zeros((300,400),dtype=np.uint8)\n",
    "# You can also see bf_tools.py cv_plot and mpl_plot functions for plot examples\n",
    "# cv_plot(A, 'All black image') # Can be used in a python script, but do not use this function in this jupyter notebook!\n",
    "# mpl_plot(A, 'All black image')\n",
    "plt.imshow(A,cmap='gray')\n",
    "plt.title( 'All black image' )\n",
    "plt.show(block = True)\n"
   ]
  },
  {
   "cell_type": "markdown",
   "metadata": {},
   "source": [
    "The code above plot the image A using two different functions. You may look in the file bf tools.py, to see exactly how this is done.\n",
    "\n",
    "Well, an all black image is dull. The next step is to draw some simple shapes into image A. To do this you need to know the reference system. The upper left pixel is referred as A[0,0], row 10 as A[9,:]. The axis system for the image has origin in upper left pixel and x-axis to the right and y-axis downward. A point is represented as (x,y) where 0 <= x < w and 0 <= y < h where (w,h) are width and height. This point is in pixel A[int(y), int(x)]. Note order of indexes and that int() round towards zero.\n",
    "\n",
    "You can use OpenCV functions to draw some simple shapes into image A, see <a href=\"https://docs.opencv.org/3.4/d6/d6e/group__imgproc__draw.html\"> OpenCV Drawing Functions </a> or the more general <a href=\"https://docs.opencv.org/3.4/dc/da5/tutorial_py_drawing_functions.html\"> OpenCV tutorial</a>. Some examples you may try are:\n"
   ]
  },
  {
   "cell_type": "code",
   "execution_count": null,
   "metadata": {},
   "outputs": [],
   "source": [
    "import numpy as np\n",
    "import matplotlib.pyplot as plt\n",
    "A = np.zeros((300,400),dtype=np.uint8)\n",
    "A = cv2.line(A, (10,10), (10,50), 255)\n",
    "A = cv2.rectangle(A, (20,10), (50,60), 255, thickness=-1)\n",
    "A = cv2.ellipse(A, (120,50), (40,40), angle=360, \\\n",
    "startAngle=0, endAngle=360, color=255, thickness=2)\n",
    "plt.imshow(A,cmap='gray')\n",
    "plt.title('Black image with some white shapes' )\n",
    "plt.show(block = True)"
   ]
  },
  {
   "cell_type": "markdown",
   "metadata": {},
   "source": [
    "You may also set individual pixels, or a range of pixels, directly into the array using numpy. See numpy documentation for details on array slicing, indexing and manipulation, there are a lot of possibilities. The code below makes a white disk on the black image, i.e pixels inside the circle are white (value 255) but pixels on the edge are gray. This is denoted as anti-aliasing and makes the disk edge look smoother. The numpy-code is below."
   ]
  },
  {
   "cell_type": "code",
   "execution_count": null,
   "metadata": {},
   "outputs": [],
   "source": [
    "from math import floor\n",
    "\n",
    "(cx,cy,r) = (100,200,40)\n",
    "yRange = np.arange( np.floor(cy-r-1.0), np.ceil(cy+r+1.0001), 1.0)\n",
    "xRange = np.arange( np.floor(cx-r-1.0), np.ceil(cx+r+1.0001), 1.0)\n",
    "yD2 = np.power(abs(yRange + 0.5 - cy), 2)\n",
    "xD2 = np.power(abs(xRange + 0.5 - cx), 2)\n",
    "xyD = np.sqrt(np.dot(yD2.reshape(len(yD2),1), np.ones((1,len(xD2)))) +\n",
    "np.dot(np.ones((len(yD2),1)), xD2.reshape(1,len(xD2))))\n",
    "#\n",
    "for y in range(len(yD2)):\n",
    "    for x in range(len(xD2)):\n",
    "        b = xyD[y,x]\n",
    "        if (b < (r-0.7)):\n",
    "            xyD[y,x] = 255\n",
    "        elif (b > (r+0.7)):\n",
    "            xyD[y,x] = 0\n",
    "        else: # r-0.7 < b < r+0.7, 0 < r+0.7-b < 1.4\n",
    "            xyD[y,x] = int(floor(182.1*(r+0.7-b)))\n",
    "#\n",
    "A[int(yRange[0]):int(yRange[-1]+1),int(xRange[0]):int(xRange[-1]+1)] = xyD\n",
    "mpl_plot(A, 'Gray scale image with some more shapes')"
   ]
  },
  {
   "cell_type": "markdown",
   "metadata": {},
   "source": [
    "### 1.4.3 Make an image with some simple shapes"
   ]
  },
  {
   "cell_type": "markdown",
   "metadata": {},
   "source": [
    "Now you should start with a new black image A and add the following shapes to image A. When done it should look something like the image in figure 2:\n",
    "![alt text](img/ia1_1_4_3.jpg \"figure 2\")\n",
    "\n",
    "Figure 2: Synthetic image as made in part 1.4.1. The image is gray scale and\n",
    "most pixels have value 0 (black) or 255 (white), so it is almost an binary image."
   ]
  },
  {
   "cell_type": "markdown",
   "metadata": {},
   "source": [
    "### 1.4.4 Image edges and image lines"
   ]
  },
  {
   "cell_type": "markdown",
   "metadata": {},
   "source": [
    "To solve the problems below you should use the OpenCV documentation%, and perhaps also the tutorials, whenever needed. Especially the imread,\n",
    "cvtColor, Sobel, sepFilter2D, threshold, Canny, HoughLines, HoughLinesP, line, ... documentation will be useful here. You may also\n",
    "use the program appImageViewer1.py% to see how HoughLines and HoughLinesP functions works.\n",
    "\n",
    "The appImageViewer-programs will be useful and needed to solve the following tasks and tasks in following assignments as well. To understand the\n",
    "appImageViewer-programs, carefully read the overview in the Fragments of Python stuff document. For this, the most important section is section 5.3\n",
    "and Figure 1. There are some video lectures available on canvas, in Modules on ELE610 the course page. I strongly recommend to watch these videos\n",
    "because they should be very helpful in understanding the appImageViewer-programs. Also, I encourage you to look at the implementation details in the\n",
    "Python code, all py-files should be included in ELE610py3files.zip%.\n",
    "\n",
    "The tasks listed below should be tested on the cropped image from section 1.4.1. Write python code for each of the tasks in the code windows for each task. \n",
    "For som of the tasks you can try each of them in the appImageViewer1.py program, understand what is done and how the code works in the program and learn from that."
   ]
  },
  {
   "cell_type": "code",
   "execution_count": 9,
   "metadata": {},
   "outputs": [],
   "source": [
    "# a. Open an image file, and print the properties of the resulting numpy array:\n",
    "#    Hint: See 1.4.1\n"
   ]
  },
  {
   "cell_type": "markdown",
   "metadata": {},
   "source": [
    "For b. it is recommended to also create a python script, and try showing the image using cv2.imshow(...) and cv2.waitKey(...)"
   ]
  },
  {
   "cell_type": "code",
   "execution_count": 10,
   "metadata": {},
   "outputs": [],
   "source": [
    "# b. Display the image using matplotlib.pyplot.imshow() function:\n",
    "#    Hint: See 1.4.2\n"
   ]
  },
  {
   "cell_type": "code",
   "execution_count": 11,
   "metadata": {},
   "outputs": [],
   "source": [
    "# c. Observe what color space the image representation is, RGB or BGR?\n",
    "#    If it is wrong, you should swap Red and Blue color components and redisplay the image.\n",
    "#    This option is actually implemented in the appImageViewer3.py program, and the swap is fairly easy.\n",
    "#    If color seems to be ok, or if the gray scale image in next task is ok you don't need to do more than observe color space in this task.\n"
   ]
  },
  {
   "cell_type": "markdown",
   "metadata": {},
   "source": [
    "Documentation on <a href=\"https://matplotlib.org/stable/tutorials/colors/colormaps.html\"> Matplotlib: colormaps </a> and <a href=\"https://docs.opencv.org/4.5.4/d8/d01/group__imgproc__color__conversions.html\"> OpenCV: Color Space Conversions </a> may be helpful in the following task.  "
   ]
  },
  {
   "cell_type": "code",
   "execution_count": 12,
   "metadata": {},
   "outputs": [],
   "source": [
    "# d. Convert the image into a gray scale image using OpenCV function.\n",
    "# e. Display the gray scale image (using plt.imshow(...) function)"
   ]
  },
  {
   "cell_type": "markdown",
   "metadata": {},
   "source": [
    "The <a href=\"https://docs.opencv.org/4.5.4/d1/db7/tutorial_py_histogram_begins.html\"> OpenCV histogram tutorial </a> may be useful in the following task:"
   ]
  },
  {
   "cell_type": "code",
   "execution_count": 13,
   "metadata": {},
   "outputs": [],
   "source": [
    "# f. Make and display a histogram of the pixel values in the gray scale image, and plot it here.\n"
   ]
  },
  {
   "cell_type": "markdown",
   "metadata": {},
   "source": [
    "g. Explain the difference between image edges and image lines."
   ]
  },
  {
   "cell_type": "markdown",
   "metadata": {},
   "source": [
    "**Answer here**"
   ]
  },
  {
   "cell_type": "code",
   "execution_count": 14,
   "metadata": {},
   "outputs": [],
   "source": [
    "# h. Emphasize image edges using the Sobel filter. Plot the resulting image\n"
   ]
  },
  {
   "cell_type": "markdown",
   "metadata": {},
   "source": [
    "The <a href=\"https://docs.opencv.org/4.5.4/d7/d4d/tutorial_py_thresholding.html\"> OpenCV thresholding tutorial </a> may be useful in the following task:"
   ]
  },
  {
   "cell_type": "code",
   "execution_count": 15,
   "metadata": {},
   "outputs": [],
   "source": [
    "# i. Threshold the gray scale image (not the filtered one from previous task) into a binary image\n"
   ]
  },
  {
   "cell_type": "markdown",
   "metadata": {},
   "source": [
    "The <a href=\"https://docs.opencv.org/4.5.4/d6/d10/tutorial_py_houghlines.html\"> OpenCV Houghlines tutorial </a> may be useful in the following task:"
   ]
  },
  {
   "cell_type": "code",
   "execution_count": 16,
   "metadata": {},
   "outputs": [],
   "source": [
    "# j. Locate lines using OpenCV HoughLines function. Plot the lines into the image and display the resulting image\n",
    "#    The draw lines function in HoughLines tutorial may be useful. Or look in the draw lines function in clsHoughLinesDialog.py, included in ELE610py3files.\n",
    "#    The \"find Lines\" menu point in appImageViewer1.py also includes the HoughLinesP function as an option, you should try this too.\n"
   ]
  },
  {
   "cell_type": "markdown",
   "metadata": {},
   "source": [
    "The <a href=\"https://docs.opencv.org/4.x/dc/d0d/tutorial_py_features_harris.html\"> OpenCV Harris corner detector tutorial </a> may be useful in the following task:"
   ]
  },
  {
   "cell_type": "code",
   "execution_count": 17,
   "metadata": {},
   "outputs": [],
   "source": [
    "# k. This task should only be done by students that want an extra challenge. The challenge is to locate corners in the image.\n",
    "#    You may add a new option, i.e. menu point, in your appImageViewer1X.py program. The easiest way is probably to use the Harris corner detector in OpenCV, see\n",
    "#    the tutorial. An alternative is to find points where lines, approximate 90 degrees apart, cross each other. Yet another alternative when the\n",
    "#    edges are horizontal and vertical is to use the \"Filter image\" option in the appImageViewer1X.py program. You should try this, filtering\n",
    "#    doesn't need a binary image but this implementation doesn't works on a color image.\n",
    "\n"
   ]
  },
  {
   "cell_type": "markdown",
   "metadata": {},
   "source": [
    "The <a href=\"https://pyimagesearch.com/2021/01/20/opencv-rotate-image/\"> OpenCV Image rotation tutorial </a> may be useful in the following task:"
   ]
  },
  {
   "cell_type": "code",
   "execution_count": 18,
   "metadata": {},
   "outputs": [],
   "source": [
    "# l. If you still want more challenges you may try to rotate, by 30, 45 or 60 degrees, the original large image from section 1.2, using OpenCV as in the\n",
    "#    rotate tutorial. Some image editors (and Matlab imrotate) have this feature. You may add an Image rotate option in your appImageViewer1X.py program."
   ]
  },
  {
   "cell_type": "markdown",
   "metadata": {},
   "source": [
    "An even better solution (if you have time for it) could be to integrate the tasks in the menu of your own image viewer\n",
    "program, ex. appImageViewer1X.py, where X is replaced by your group letter.\n",
    "You may also extend the - File- print Info - menu point in appImageViewer1.py program to also print the image information from task c for the self.npImage object.\n",
    "\n",
    "If you reach the limit for the assignment time budget (20 hours) working on these tasks, you may skip the remaining tasks. \n",
    "\n",
    "Remember to include an hour list in the report:"
   ]
  },
  {
   "cell_type": "markdown",
   "metadata": {},
   "source": [
    "**Answer here**"
   ]
  }
 ],
 "metadata": {
  "kernelspec": {
   "display_name": ".venv",
   "language": "python",
   "name": "python3"
  },
  "language_info": {
   "codemirror_mode": {
    "name": "ipython",
    "version": 3
   },
   "file_extension": ".py",
   "mimetype": "text/x-python",
   "name": "python",
   "nbconvert_exporter": "python",
   "pygments_lexer": "ipython3",
   "version": "3.12.2"
  }
 },
 "nbformat": 4,
 "nbformat_minor": 2
}
